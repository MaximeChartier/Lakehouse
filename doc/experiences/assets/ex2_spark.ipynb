{
 "cells": [
  {
   "cell_type": "code",
   "execution_count": null,
   "id": "5aca80c6-9b6e-489b-a2b9-b3650fa6f94e",
   "metadata": {},
   "outputs": [],
   "source": [
    "!pip install pyspark"
   ]
  },
  {
   "cell_type": "code",
   "execution_count": null,
   "id": "33df54af-3640-4fd7-a20c-8c61b77b089a",
   "metadata": {},
   "outputs": [],
   "source": [
    "from pyspark.sql import SparkSession, SQLContext"
   ]
  },
  {
   "cell_type": "code",
   "execution_count": null,
   "id": "b0252d6d-6cab-48ed-aecc-bb2080380ba4",
   "metadata": {},
   "outputs": [],
   "source": [
    "spark = SparkSession.builder \\\n",
    "        .appName('testsparks3') \\\n",
    "        .master('spark://spark-master-svc.spark.svc.cluster.local:7077') \\\n",
    "        .config(\"spark.driver.host\", \"max001-lab.jupyterhub.svc.cluster.local\") \\\n",
    "        .config('spark.driver.port', 2020) \\\n",
    "        .config(\"spark.driver.bindAddress\", \"0.0.0.0\") \\\n",
    "        .config(\"spark.blockManager.port\", \"6060\") \\\n",
    "        .config(\"fs.s3a.access.key\",\"minioadmin\") \\\n",
    "        .config(\"fs.s3a.secret.key\",\"minioadmin\") \\\n",
    "        .config(\"fs.s3a.endpoint\",\"minio.minio.svc.cluster.local:9000\") \\\n",
    "        .config(\"fs.s3a.impl\",\"org.apache.hadoop.fs.s3a.S3AFileSystem\") \\\n",
    "        .config(\"fs.s3a.aws.credentials.provider\", \"org.apache.hadoop.fs.s3a.SimpleAWSCredentialsProvider\")\\\n",
    "        .config(\"fs.s3a.connection.ssl.enabled\",\"false\") \\\n",
    "        .config(\"fs.s3a.path.style.access\",\"true\") \\\n",
    "        .getOrCreate()"
   ]
  },
  {
   "cell_type": "code",
   "execution_count": null,
   "id": "d1ce8250-c0ed-45e9-9cb8-e9df9b0f0e1c",
   "metadata": {},
   "outputs": [],
   "source": [
    "df = spark.read.format(\"csv\").option(\"header\", \"true\").load(\"s3a://datalake/mock.csv\")"
   ]
  },
  {
   "cell_type": "code",
   "execution_count": null,
   "id": "70e68d7d-bea6-4da0-b2e5-05f0f461af50",
   "metadata": {},
   "outputs": [],
   "source": [
    "df.show(4)"
   ]
  },
  {
   "cell_type": "code",
   "execution_count": null,
   "id": "f8dac3ec-8da3-4d1e-ae06-51126305c15c",
   "metadata": {},
   "outputs": [],
   "source": [
    "df.write.mode(\"overwrite\").orc(\"s3a://datalake/mock.orc\")"
   ]
  },
  {
   "cell_type": "code",
   "execution_count": null,
   "id": "782cd56f-de6c-40bf-8438-1d139f3ff9f9",
   "metadata": {},
   "outputs": [],
   "source": [
    "df.write.mode(\"overwrite\").parquet(\"s3a://datalake/mock.parquet\")"
   ]
  },
  {
   "cell_type": "code",
   "execution_count": null,
   "id": "8af10f8e-9b6b-4623-8dc2-ab437e1fed2f",
   "metadata": {},
   "outputs": [],
   "source": []
  }
 ],
 "metadata": {
  "kernelspec": {
   "display_name": "Python 3 (ipykernel)",
   "language": "python",
   "name": "python3"
  },
  "language_info": {
   "codemirror_mode": {
    "name": "ipython",
    "version": 3
   },
   "file_extension": ".py",
   "mimetype": "text/x-python",
   "name": "python",
   "nbconvert_exporter": "python",
   "pygments_lexer": "ipython3",
   "version": "3.9.7"
  }
 },
 "nbformat": 4,
 "nbformat_minor": 5
}
